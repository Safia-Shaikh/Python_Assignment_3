{
 "cells": [
  {
   "cell_type": "code",
   "execution_count": 2,
   "id": "eae9b2f9",
   "metadata": {},
   "outputs": [
    {
     "name": "stdout",
     "output_type": "stream",
     "text": [
      "\n",
      "            Twinkle, twinkle, little star,\n",
      "\n",
      "                    How I wonder what you are!\n",
      "\n",
      "                            Up above the world so high,\n",
      "                            Like a diamond in the sky.\n",
      "\n",
      "            Twinkle, twinkle, little star,\n",
      "\n",
      "                    How I wonder what you are \n"
     ]
    }
   ],
   "source": [
    "# 1. Write a Python program to print the following string in a specific format (see the\n",
    "# output).\n",
    "# Twinkle, twinkle, little star,\n",
    "\n",
    "# How I wonder what you are!\n",
    "\n",
    "# Up above the world so high,\n",
    "# Like a diamond in the sky.\n",
    "\n",
    "# Twinkle, twinkle, little star,\n",
    "\n",
    "# How I wonder what you are \n",
    "string = \"\"\"\n",
    "            Twinkle, twinkle, little star,\n",
    "\n",
    "                    How I wonder what you are!\n",
    "\n",
    "                            Up above the world so high,\n",
    "                            Like a diamond in the sky.\n",
    "\n",
    "            Twinkle, twinkle, little star,\n",
    "\n",
    "                    How I wonder what you are \"\"\"\n",
    "print(string)"
   ]
  },
  {
   "cell_type": "code",
   "execution_count": 3,
   "id": "9309ae62",
   "metadata": {},
   "outputs": [
    {
     "name": "stdout",
     "output_type": "stream",
     "text": [
      "Python version\n",
      "3.8.8 (default, Apr 13 2021, 15:08:03) [MSC v.1916 64 bit (AMD64)]\n"
     ]
    }
   ],
   "source": [
    "# Write a Python program to get the Python version you are using \n",
    "import sys\n",
    "print(\"Python version\")\n",
    "print (sys.version)"
   ]
  },
  {
   "cell_type": "code",
   "execution_count": 4,
   "id": "d72c0e7d",
   "metadata": {},
   "outputs": [
    {
     "name": "stdout",
     "output_type": "stream",
     "text": [
      "Current date and time : \n",
      "2021-10-24 00:23:41\n"
     ]
    }
   ],
   "source": [
    "# 3. Write a Python program to display the current date and time. \n",
    "import datetime\n",
    "now = datetime.datetime.now()\n",
    "print (\"Current date and time : \")\n",
    "print (now.strftime(\"%Y-%m-%d %H:%M:%S\"))"
   ]
  },
  {
   "cell_type": "code",
   "execution_count": 9,
   "id": "343666d3",
   "metadata": {},
   "outputs": [
    {
     "name": "stdout",
     "output_type": "stream",
     "text": [
      "Input the radius of the circle : 24\n",
      "The area of the circle with radius 24.0 is: 1809.5573684677208\n"
     ]
    }
   ],
   "source": [
    "# Write a Python program which accepts the radius of a circle from the user and compute\n",
    "# the area.\n",
    "from math import pi\n",
    "r = float(input (\"Input the radius of the circle : \"))\n",
    "print (\"The area of the circle with radius \" + str(r) + \" is: \" + str(pi * r**2))"
   ]
  },
  {
   "cell_type": "code",
   "execution_count": 11,
   "id": "9e897bdb",
   "metadata": {},
   "outputs": [
    {
     "name": "stdout",
     "output_type": "stream",
     "text": [
      "Input your First Name : Imtiaz\n",
      "Input your Last Name : Safia\n",
      "Hello  Safia Imtiaz\n"
     ]
    }
   ],
   "source": [
    "# Write a Python program which accepts the user's first and last name and print them in\n",
    "# reverse order with a space between them. \n",
    "fname = input(\"Input your First Name : \")\n",
    "lname = input(\"Input your Last Name : \")\n",
    "print (\"Hello  \" + lname + \" \" + fname)"
   ]
  },
  {
   "cell_type": "code",
   "execution_count": 12,
   "id": "f7595dac",
   "metadata": {},
   "outputs": [
    {
     "name": "stdout",
     "output_type": "stream",
     "text": [
      "Type a number: 2\n",
      "Type another number: 4\n",
      "The sum is:  6\n"
     ]
    }
   ],
   "source": [
    "# Write a python program which takes two inputs from user and print them addition\n",
    "x = input(\"Type a number: \")\n",
    "y = input(\"Type another number: \")\n",
    "\n",
    "sum = int(x) + int(y)\n",
    "\n",
    "print(\"The sum is: \", sum)"
   ]
  },
  {
   "cell_type": "code",
   "execution_count": 14,
   "id": "da8ee3c3",
   "metadata": {},
   "outputs": [
    {
     "name": "stdout",
     "output_type": "stream",
     "text": [
      "Enter marks of the first subject: 80\n",
      "Enter marks of the second subject: 70\n",
      "Enter marks of the third subject: 84\n",
      "Enter marks of the fourth subject: 85\n",
      "Enter marks of the fifth subject: 82\n",
      "80.80000000000001\n",
      "Grade A+\n"
     ]
    }
   ],
   "source": [
    "# Write a program which takes 5 inputs from user for different subject’s marks, total it\n",
    "# and generate mark sheet using grades ?\n",
    "sub1=int(input(\"Enter marks of the first subject: \"))\n",
    "sub2=int(input(\"Enter marks of the second subject: \"))\n",
    "sub3=int(input(\"Enter marks of the third subject: \"))\n",
    "sub4=int(input(\"Enter marks of the fourth subject: \"))\n",
    "sub5=int(input(\"Enter marks of the fifth subject: \"))\n",
    "add=(sub1+sub2+sub3+sub4+sub4)\n",
    "totalMarks = 500\n",
    "percentage = (add / totalMarks)*100;\n",
    "print(percentage)\n",
    "if percentage <= 100 and percentage >= 80:\n",
    "    print(\"Grade A+\")\n",
    "elif percentage <= 80 and percentage >= 70:\n",
    "    print(\"Grade A\")\n",
    "elif percentage <= 70 and percentage >= 60:\n",
    "    print(\"Grade B\")\n",
    "elif percentage <= 60 and percentage >= 50:\n",
    "    print(\"Grade C\")\n",
    "elif percentage <= 50 and percentage >= 40:\n",
    "    print(\"Grade D\")\n",
    "elif percentage <= 40 and percentage >= 33:\n",
    "    print(\"Grade E\")\n",
    "elif percentage <= 33 and percentage >= 1:\n",
    "    print(\"Fail\")\n",
    "else:\n",
    "    print(\"You entered only numbers between 1 and 100\")"
   ]
  },
  {
   "cell_type": "code",
   "execution_count": 15,
   "id": "a48bd3f1",
   "metadata": {},
   "outputs": [
    {
     "name": "stdout",
     "output_type": "stream",
     "text": [
      "Enter a number: 5\n",
      "5 is Odd\n"
     ]
    }
   ],
   "source": [
    "# Write a program which take input from user and identify that the given number is even\n",
    "# or odd? \n",
    "num = int(input(\"Enter a number: \"))\n",
    "if (num % 2) == 0:\n",
    "   print(\"{0} is Even\".format(num))\n",
    "else:\n",
    "   print(\"{0} is Odd\".format(num))"
   ]
  },
  {
   "cell_type": "code",
   "execution_count": 16,
   "id": "a3cf3c98",
   "metadata": {},
   "outputs": [
    {
     "name": "stdout",
     "output_type": "stream",
     "text": [
      "Number of items in the list =  5\n"
     ]
    }
   ],
   "source": [
    "# Write a program which print the length of the list?\n",
    "ListName = [\"Hello\", \"Safia\", 1, 2, 3]\n",
    "print (\"Number of items in the list = \", len(ListName))"
   ]
  },
  {
   "cell_type": "code",
   "execution_count": 2,
   "id": "202d64f3",
   "metadata": {},
   "outputs": [
    {
     "name": "stdout",
     "output_type": "stream",
     "text": [
      "15\n"
     ]
    }
   ],
   "source": [
    "# Write a Python program to sum all the numeric items in a list? \n",
    "ListName = [1,2,3,4,5]\n",
    "print(sum(ListName))"
   ]
  },
  {
   "cell_type": "code",
   "execution_count": 3,
   "id": "0c3c491d",
   "metadata": {},
   "outputs": [
    {
     "name": "stdout",
     "output_type": "stream",
     "text": [
      "5\n"
     ]
    }
   ],
   "source": [
    "# Write a Python program to get the largest number from a numeric list.\n",
    "ListName = [1,2,3,4,5]\n",
    "print(max(ListName))"
   ]
  },
  {
   "cell_type": "code",
   "execution_count": 8,
   "id": "4407e215",
   "metadata": {},
   "outputs": [
    {
     "name": "stdout",
     "output_type": "stream",
     "text": [
      "1\n",
      "\n",
      "1\n",
      "\n",
      "2\n",
      "\n",
      "3\n",
      "\n"
     ]
    }
   ],
   "source": [
    "# Take a list, say for example this one:\n",
    "\n",
    "# a = [1, 1, 2, 3, 5, 8, 13, 21, 34, 55, 89]\n",
    "#  Write a program that prints out all the elements of the list that are less than 5. \n",
    "test_list= [1, 1, 2, 3, 5, 8, 13, 21, 34, 55, 89]\n",
    "for element in test_list:\n",
    "    if(int(element) <5):\n",
    "        print(str(element)+\"\\n\")"
   ]
  }
 ],
 "metadata": {
  "kernelspec": {
   "display_name": "Python 3",
   "language": "python",
   "name": "python3"
  },
  "language_info": {
   "codemirror_mode": {
    "name": "ipython",
    "version": 3
   },
   "file_extension": ".py",
   "mimetype": "text/x-python",
   "name": "python",
   "nbconvert_exporter": "python",
   "pygments_lexer": "ipython3",
   "version": "3.8.8"
  }
 },
 "nbformat": 4,
 "nbformat_minor": 5
}
